{
 "cells": [
  {
   "cell_type": "code",
   "execution_count": 1,
   "metadata": {},
   "outputs": [],
   "source": [
    "# Importing libraries\n",
    "import pandas as pd\n",
    "import numpy as np\n",
    "import matplotlib.pyplot as plt\n",
    "import seaborn as sns\n",
    "import os\n",
    "from scipy.stats import ttest_ind\n",
    "\n",
    "from sklearn.preprocessing import LabelEncoder, StandardScaler\n",
    "from sklearn.model_selection import train_test_split\n",
    "from sklearn.linear_model import LogisticRegression\n",
    "from sklearn.metrics import classification_report, confusion_matrix"
   ]
  },
  {
   "cell_type": "code",
   "execution_count": 2,
   "metadata": {},
   "outputs": [],
   "source": [
    "# Reading the dataset\n",
    "path = os.path.join('c:' + os.sep, 'Users', 'Bryan', 'Downloads', 'visathon_train_data.csv', 'visathon_train_data.csv')\n",
    "df = pd.read_csv(path)"
   ]
  },
  {
   "cell_type": "code",
   "execution_count": 3,
   "metadata": {},
   "outputs": [
    {
     "data": {
      "text/html": [
       "<div>\n",
       "<style scoped>\n",
       "    .dataframe tbody tr th:only-of-type {\n",
       "        vertical-align: middle;\n",
       "    }\n",
       "\n",
       "    .dataframe tbody tr th {\n",
       "        vertical-align: top;\n",
       "    }\n",
       "\n",
       "    .dataframe thead th {\n",
       "        text-align: right;\n",
       "    }\n",
       "</style>\n",
       "<table border=\"1\" class=\"dataframe\">\n",
       "  <thead>\n",
       "    <tr style=\"text-align: right;\">\n",
       "      <th></th>\n",
       "      <th>customer_id</th>\n",
       "      <th>vintage</th>\n",
       "      <th>age</th>\n",
       "      <th>gender</th>\n",
       "      <th>dependents</th>\n",
       "      <th>occupation</th>\n",
       "      <th>customer_nw_category</th>\n",
       "      <th>branch_code</th>\n",
       "      <th>days_since_last_transaction</th>\n",
       "      <th>current_balance</th>\n",
       "      <th>previous_month_end_balance</th>\n",
       "      <th>average_monthly_balance_prevQ</th>\n",
       "      <th>average_monthly_balance_prevQ2</th>\n",
       "      <th>current_month_credit</th>\n",
       "      <th>previous_month_credit</th>\n",
       "      <th>current_month_debit</th>\n",
       "      <th>previous_month_debit</th>\n",
       "      <th>current_month_balance</th>\n",
       "      <th>previous_month_balance</th>\n",
       "      <th>churn</th>\n",
       "    </tr>\n",
       "  </thead>\n",
       "  <tbody>\n",
       "    <tr>\n",
       "      <th>0</th>\n",
       "      <td>1.0</td>\n",
       "      <td>3135.0</td>\n",
       "      <td>66.0</td>\n",
       "      <td>Male</td>\n",
       "      <td>0.0</td>\n",
       "      <td>Engineer</td>\n",
       "      <td>Medium</td>\n",
       "      <td>755.0</td>\n",
       "      <td>224.0</td>\n",
       "      <td>1458.71</td>\n",
       "      <td>1458.71</td>\n",
       "      <td>1458.71</td>\n",
       "      <td>1449.07</td>\n",
       "      <td>0.20</td>\n",
       "      <td>0.20</td>\n",
       "      <td>0.20</td>\n",
       "      <td>NaN</td>\n",
       "      <td>1458.71</td>\n",
       "      <td>1458.71</td>\n",
       "      <td>Yes</td>\n",
       "    </tr>\n",
       "    <tr>\n",
       "      <th>1</th>\n",
       "      <td>6.0</td>\n",
       "      <td>2531.0</td>\n",
       "      <td>42.0</td>\n",
       "      <td>Male</td>\n",
       "      <td>2.0</td>\n",
       "      <td>Engineer</td>\n",
       "      <td>Low</td>\n",
       "      <td>388.0</td>\n",
       "      <td>58.0</td>\n",
       "      <td>927.72</td>\n",
       "      <td>1401.72</td>\n",
       "      <td>1643.31</td>\n",
       "      <td>1871.12</td>\n",
       "      <td>0.33</td>\n",
       "      <td>714.61</td>\n",
       "      <td>588.62</td>\n",
       "      <td>1538.06</td>\n",
       "      <td>1157.15</td>\n",
       "      <td>1677.16</td>\n",
       "      <td>No</td>\n",
       "    </tr>\n",
       "    <tr>\n",
       "      <th>2</th>\n",
       "      <td>7.0</td>\n",
       "      <td>263.0</td>\n",
       "      <td>42.0</td>\n",
       "      <td>Female</td>\n",
       "      <td>0.0</td>\n",
       "      <td>Engineer</td>\n",
       "      <td>Medium</td>\n",
       "      <td>1666.0</td>\n",
       "      <td>60.0</td>\n",
       "      <td>15202.20</td>\n",
       "      <td>16059.34</td>\n",
       "      <td>15211.29</td>\n",
       "      <td>13798.82</td>\n",
       "      <td>0.36</td>\n",
       "      <td>0.36</td>\n",
       "      <td>857.50</td>\n",
       "      <td>286.07</td>\n",
       "      <td>15719.44</td>\n",
       "      <td>15349.75</td>\n",
       "      <td>Yes</td>\n",
       "    </tr>\n",
       "    <tr>\n",
       "      <th>3</th>\n",
       "      <td>8.0</td>\n",
       "      <td>5922.0</td>\n",
       "      <td>72.0</td>\n",
       "      <td>Male</td>\n",
       "      <td>0.0</td>\n",
       "      <td>Lawyer</td>\n",
       "      <td>High</td>\n",
       "      <td>1.0</td>\n",
       "      <td>98.0</td>\n",
       "      <td>7006.93</td>\n",
       "      <td>7714.19</td>\n",
       "      <td>7859.74</td>\n",
       "      <td>11232.37</td>\n",
       "      <td>0.64</td>\n",
       "      <td>0.64</td>\n",
       "      <td>1299.64</td>\n",
       "      <td>439.26</td>\n",
       "      <td>7076.06</td>\n",
       "      <td>7755.98</td>\n",
       "      <td>Yes</td>\n",
       "    </tr>\n",
       "    <tr>\n",
       "      <th>4</th>\n",
       "      <td>9.0</td>\n",
       "      <td>1145.0</td>\n",
       "      <td>46.0</td>\n",
       "      <td>Male</td>\n",
       "      <td>0.0</td>\n",
       "      <td>Engineer</td>\n",
       "      <td>Medium</td>\n",
       "      <td>317.0</td>\n",
       "      <td>172.0</td>\n",
       "      <td>10096.58</td>\n",
       "      <td>8519.53</td>\n",
       "      <td>6511.82</td>\n",
       "      <td>16314.17</td>\n",
       "      <td>0.27</td>\n",
       "      <td>0.27</td>\n",
       "      <td>443.13</td>\n",
       "      <td>5688.44</td>\n",
       "      <td>8563.84</td>\n",
       "      <td>5317.04</td>\n",
       "      <td>Yes</td>\n",
       "    </tr>\n",
       "  </tbody>\n",
       "</table>\n",
       "</div>"
      ],
      "text/plain": [
       "   customer_id  vintage   age  gender  dependents occupation  \\\n",
       "0          1.0   3135.0  66.0    Male         0.0   Engineer   \n",
       "1          6.0   2531.0  42.0    Male         2.0   Engineer   \n",
       "2          7.0    263.0  42.0  Female         0.0   Engineer   \n",
       "3          8.0   5922.0  72.0    Male         0.0     Lawyer   \n",
       "4          9.0   1145.0  46.0    Male         0.0   Engineer   \n",
       "\n",
       "  customer_nw_category  branch_code  days_since_last_transaction  \\\n",
       "0               Medium        755.0                        224.0   \n",
       "1                  Low        388.0                         58.0   \n",
       "2               Medium       1666.0                         60.0   \n",
       "3                 High          1.0                         98.0   \n",
       "4               Medium        317.0                        172.0   \n",
       "\n",
       "   current_balance  previous_month_end_balance  average_monthly_balance_prevQ  \\\n",
       "0          1458.71                     1458.71                        1458.71   \n",
       "1           927.72                     1401.72                        1643.31   \n",
       "2         15202.20                    16059.34                       15211.29   \n",
       "3          7006.93                     7714.19                        7859.74   \n",
       "4         10096.58                     8519.53                        6511.82   \n",
       "\n",
       "   average_monthly_balance_prevQ2  current_month_credit  \\\n",
       "0                         1449.07                  0.20   \n",
       "1                         1871.12                  0.33   \n",
       "2                        13798.82                  0.36   \n",
       "3                        11232.37                  0.64   \n",
       "4                        16314.17                  0.27   \n",
       "\n",
       "   previous_month_credit  current_month_debit  previous_month_debit  \\\n",
       "0                   0.20                 0.20                   NaN   \n",
       "1                 714.61               588.62               1538.06   \n",
       "2                   0.36               857.50                286.07   \n",
       "3                   0.64              1299.64                439.26   \n",
       "4                   0.27               443.13               5688.44   \n",
       "\n",
       "   current_month_balance  previous_month_balance churn  \n",
       "0                1458.71                 1458.71   Yes  \n",
       "1                1157.15                 1677.16    No  \n",
       "2               15719.44                15349.75   Yes  \n",
       "3                7076.06                 7755.98   Yes  \n",
       "4                8563.84                 5317.04   Yes  "
      ]
     },
     "execution_count": 3,
     "metadata": {},
     "output_type": "execute_result"
    }
   ],
   "source": [
    "#Obtain first five rows of dataset\n",
    "df.head()"
   ]
  },
  {
   "cell_type": "code",
   "execution_count": 21,
   "metadata": {},
   "outputs": [
    {
     "data": {
      "text/plain": [
       "(15180, 20)"
      ]
     },
     "execution_count": 21,
     "metadata": {},
     "output_type": "execute_result"
    }
   ],
   "source": [
    "#Find the number of rows and columns\n",
    "df.shape"
   ]
  },
  {
   "cell_type": "code",
   "execution_count": 5,
   "metadata": {},
   "outputs": [
    {
     "name": "stdout",
     "output_type": "stream",
     "text": [
      "<class 'pandas.core.frame.DataFrame'>\n",
      "RangeIndex: 17654 entries, 0 to 17653\n",
      "Data columns (total 20 columns):\n",
      " #   Column                          Non-Null Count  Dtype  \n",
      "---  ------                          --------------  -----  \n",
      " 0   customer_id                     17654 non-null  float64\n",
      " 1   vintage                         17654 non-null  float64\n",
      " 2   age                             17654 non-null  float64\n",
      " 3   gender                          17654 non-null  object \n",
      " 4   dependents                      17654 non-null  float64\n",
      " 5   occupation                      17472 non-null  object \n",
      " 6   customer_nw_category            17654 non-null  object \n",
      " 7   branch_code                     17654 non-null  float64\n",
      " 8   days_since_last_transaction     17654 non-null  float64\n",
      " 9   current_balance                 16939 non-null  float64\n",
      " 10  previous_month_end_balance      17654 non-null  float64\n",
      " 11  average_monthly_balance_prevQ   17654 non-null  float64\n",
      " 12  average_monthly_balance_prevQ2  17654 non-null  float64\n",
      " 13  current_month_credit            17654 non-null  float64\n",
      " 14  previous_month_credit           17654 non-null  float64\n",
      " 15  current_month_debit             17654 non-null  float64\n",
      " 16  previous_month_debit            16767 non-null  float64\n",
      " 17  current_month_balance           16838 non-null  float64\n",
      " 18  previous_month_balance          17654 non-null  float64\n",
      " 19  churn                           17654 non-null  object \n",
      "dtypes: float64(16), object(4)\n",
      "memory usage: 2.7+ MB\n"
     ]
    }
   ],
   "source": [
    "#Find the datatype of each column\n",
    "df.info()"
   ]
  },
  {
   "cell_type": "code",
   "execution_count": 6,
   "metadata": {},
   "outputs": [],
   "source": [
    "# Wrangling data type of churn from object to bool (0 or 1)\n",
    "df['churn'] = (df['churn'] == 'Yes')"
   ]
  },
  {
   "cell_type": "markdown",
   "metadata": {},
   "source": [
    "Finding the number of null values for each column"
   ]
  },
  {
   "cell_type": "code",
   "execution_count": 7,
   "metadata": {
    "scrolled": true
   },
   "outputs": [
    {
     "data": {
      "text/plain": [
       "customer_id                         0\n",
       "vintage                             0\n",
       "age                                 0\n",
       "gender                              0\n",
       "dependents                          0\n",
       "occupation                        182\n",
       "customer_nw_category                0\n",
       "branch_code                         0\n",
       "days_since_last_transaction         0\n",
       "current_balance                   715\n",
       "previous_month_end_balance          0\n",
       "average_monthly_balance_prevQ       0\n",
       "average_monthly_balance_prevQ2      0\n",
       "current_month_credit                0\n",
       "previous_month_credit               0\n",
       "current_month_debit                 0\n",
       "previous_month_debit              887\n",
       "current_month_balance             816\n",
       "previous_month_balance              0\n",
       "churn                               0\n",
       "dtype: int64"
      ]
     },
     "execution_count": 7,
     "metadata": {},
     "output_type": "execute_result"
    }
   ],
   "source": [
    "df.isnull().sum()"
   ]
  },
  {
   "cell_type": "code",
   "execution_count": 8,
   "metadata": {},
   "outputs": [],
   "source": [
    "#Drop null values\n",
    "df.dropna(inplace=True, subset=[\"occupation\",\n",
    "                                \"current_balance\",\n",
    "                                \"previous_month_debit\",\n",
    "                                \"current_month_balance\"])"
   ]
  },
  {
   "cell_type": "code",
   "execution_count": 9,
   "metadata": {},
   "outputs": [
    {
     "data": {
      "text/plain": [
       "customer_id                       0\n",
       "vintage                           0\n",
       "age                               0\n",
       "gender                            0\n",
       "dependents                        0\n",
       "occupation                        0\n",
       "customer_nw_category              0\n",
       "branch_code                       0\n",
       "days_since_last_transaction       0\n",
       "current_balance                   0\n",
       "previous_month_end_balance        0\n",
       "average_monthly_balance_prevQ     0\n",
       "average_monthly_balance_prevQ2    0\n",
       "current_month_credit              0\n",
       "previous_month_credit             0\n",
       "current_month_debit               0\n",
       "previous_month_debit              0\n",
       "current_month_balance             0\n",
       "previous_month_balance            0\n",
       "churn                             0\n",
       "dtype: int64"
      ]
     },
     "execution_count": 9,
     "metadata": {},
     "output_type": "execute_result"
    }
   ],
   "source": [
    "#Number of null values for each column\n",
    "df.isnull().sum()"
   ]
  },
  {
   "cell_type": "markdown",
   "metadata": {},
   "source": [
    "Descriptive statistics of the columns in the dataset"
   ]
  },
  {
   "cell_type": "code",
   "execution_count": 10,
   "metadata": {},
   "outputs": [
    {
     "data": {
      "text/html": [
       "<div>\n",
       "<style scoped>\n",
       "    .dataframe tbody tr th:only-of-type {\n",
       "        vertical-align: middle;\n",
       "    }\n",
       "\n",
       "    .dataframe tbody tr th {\n",
       "        vertical-align: top;\n",
       "    }\n",
       "\n",
       "    .dataframe thead th {\n",
       "        text-align: right;\n",
       "    }\n",
       "</style>\n",
       "<table border=\"1\" class=\"dataframe\">\n",
       "  <thead>\n",
       "    <tr style=\"text-align: right;\">\n",
       "      <th></th>\n",
       "      <th>customer_id</th>\n",
       "      <th>vintage</th>\n",
       "      <th>age</th>\n",
       "      <th>dependents</th>\n",
       "      <th>branch_code</th>\n",
       "      <th>days_since_last_transaction</th>\n",
       "      <th>current_balance</th>\n",
       "      <th>previous_month_end_balance</th>\n",
       "      <th>average_monthly_balance_prevQ</th>\n",
       "      <th>average_monthly_balance_prevQ2</th>\n",
       "      <th>current_month_credit</th>\n",
       "      <th>previous_month_credit</th>\n",
       "      <th>current_month_debit</th>\n",
       "      <th>previous_month_debit</th>\n",
       "      <th>current_month_balance</th>\n",
       "      <th>previous_month_balance</th>\n",
       "    </tr>\n",
       "  </thead>\n",
       "  <tbody>\n",
       "    <tr>\n",
       "      <th>count</th>\n",
       "      <td>15180.000000</td>\n",
       "      <td>15180.000000</td>\n",
       "      <td>15180.000000</td>\n",
       "      <td>15180.000000</td>\n",
       "      <td>15180.000000</td>\n",
       "      <td>15180.000000</td>\n",
       "      <td>1.518000e+04</td>\n",
       "      <td>1.518000e+04</td>\n",
       "      <td>1.518000e+04</td>\n",
       "      <td>15180.000000</td>\n",
       "      <td>1.518000e+04</td>\n",
       "      <td>1.518000e+04</td>\n",
       "      <td>1.518000e+04</td>\n",
       "      <td>1.518000e+04</td>\n",
       "      <td>1.518000e+04</td>\n",
       "      <td>1.518000e+04</td>\n",
       "    </tr>\n",
       "    <tr>\n",
       "      <th>mean</th>\n",
       "      <td>12124.853426</td>\n",
       "      <td>2547.805270</td>\n",
       "      <td>47.965415</td>\n",
       "      <td>0.380764</td>\n",
       "      <td>876.209025</td>\n",
       "      <td>66.806456</td>\n",
       "      <td>7.170300e+03</td>\n",
       "      <td>7.296171e+03</td>\n",
       "      <td>7.234644e+03</td>\n",
       "      <td>6795.087669</td>\n",
       "      <td>3.499394e+03</td>\n",
       "      <td>3.843299e+03</td>\n",
       "      <td>3.834738e+03</td>\n",
       "      <td>3.784181e+03</td>\n",
       "      <td>7.257585e+03</td>\n",
       "      <td>7.228199e+03</td>\n",
       "    </tr>\n",
       "    <tr>\n",
       "      <th>std</th>\n",
       "      <td>6993.904354</td>\n",
       "      <td>1597.937559</td>\n",
       "      <td>16.453883</td>\n",
       "      <td>1.096479</td>\n",
       "      <td>904.536306</td>\n",
       "      <td>83.782354</td>\n",
       "      <td>2.105584e+04</td>\n",
       "      <td>2.195936e+04</td>\n",
       "      <td>1.903138e+04</td>\n",
       "      <td>18126.517751</td>\n",
       "      <td>2.923588e+04</td>\n",
       "      <td>3.470274e+04</td>\n",
       "      <td>2.730926e+04</td>\n",
       "      <td>2.567952e+04</td>\n",
       "      <td>2.043029e+04</td>\n",
       "      <td>2.090234e+04</td>\n",
       "    </tr>\n",
       "    <tr>\n",
       "      <th>min</th>\n",
       "      <td>6.000000</td>\n",
       "      <td>180.000000</td>\n",
       "      <td>1.000000</td>\n",
       "      <td>0.000000</td>\n",
       "      <td>1.000000</td>\n",
       "      <td>0.000000</td>\n",
       "      <td>-5.503960e+03</td>\n",
       "      <td>-3.145380e+03</td>\n",
       "      <td>1.428690e+03</td>\n",
       "      <td>-10691.930000</td>\n",
       "      <td>1.000000e-02</td>\n",
       "      <td>1.000000e-02</td>\n",
       "      <td>1.000000e-02</td>\n",
       "      <td>1.000000e-02</td>\n",
       "      <td>-3.374180e+03</td>\n",
       "      <td>-5.171920e+03</td>\n",
       "    </tr>\n",
       "    <tr>\n",
       "      <th>25%</th>\n",
       "      <td>6073.000000</td>\n",
       "      <td>1320.000000</td>\n",
       "      <td>36.000000</td>\n",
       "      <td>0.000000</td>\n",
       "      <td>159.000000</td>\n",
       "      <td>11.000000</td>\n",
       "      <td>1.776133e+03</td>\n",
       "      <td>1.906840e+03</td>\n",
       "      <td>2.205740e+03</td>\n",
       "      <td>1819.310000</td>\n",
       "      <td>3.600000e-01</td>\n",
       "      <td>3.700000e-01</td>\n",
       "      <td>4.900000e-01</td>\n",
       "      <td>4.900000e-01</td>\n",
       "      <td>2.023968e+03</td>\n",
       "      <td>2.086240e+03</td>\n",
       "    </tr>\n",
       "    <tr>\n",
       "      <th>50%</th>\n",
       "      <td>12155.500000</td>\n",
       "      <td>2208.000000</td>\n",
       "      <td>46.000000</td>\n",
       "      <td>0.000000</td>\n",
       "      <td>533.000000</td>\n",
       "      <td>28.000000</td>\n",
       "      <td>3.321090e+03</td>\n",
       "      <td>3.415890e+03</td>\n",
       "      <td>3.582800e+03</td>\n",
       "      <td>3379.355000</td>\n",
       "      <td>1.105000e+00</td>\n",
       "      <td>7.410000e+00</td>\n",
       "      <td>2.203150e+02</td>\n",
       "      <td>2.302550e+02</td>\n",
       "      <td>3.505205e+03</td>\n",
       "      <td>3.489480e+03</td>\n",
       "    </tr>\n",
       "    <tr>\n",
       "      <th>75%</th>\n",
       "      <td>18176.250000</td>\n",
       "      <td>3374.000000</td>\n",
       "      <td>60.000000</td>\n",
       "      <td>0.000000</td>\n",
       "      <td>1375.000000</td>\n",
       "      <td>90.000000</td>\n",
       "      <td>6.801475e+03</td>\n",
       "      <td>6.881712e+03</td>\n",
       "      <td>6.860547e+03</td>\n",
       "      <td>6697.585000</td>\n",
       "      <td>9.946450e+02</td>\n",
       "      <td>1.156260e+03</td>\n",
       "      <td>1.601025e+03</td>\n",
       "      <td>1.688190e+03</td>\n",
       "      <td>6.878595e+03</td>\n",
       "      <td>6.813462e+03</td>\n",
       "    </tr>\n",
       "    <tr>\n",
       "      <th>max</th>\n",
       "      <td>24212.000000</td>\n",
       "      <td>11353.000000</td>\n",
       "      <td>90.000000</td>\n",
       "      <td>52.000000</td>\n",
       "      <td>4782.000000</td>\n",
       "      <td>365.000000</td>\n",
       "      <td>1.076091e+06</td>\n",
       "      <td>1.001124e+06</td>\n",
       "      <td>1.192704e+06</td>\n",
       "      <td>856596.510000</td>\n",
       "      <td>1.764286e+06</td>\n",
       "      <td>2.361808e+06</td>\n",
       "      <td>1.764286e+06</td>\n",
       "      <td>1.414168e+06</td>\n",
       "      <td>1.074625e+06</td>\n",
       "      <td>1.326487e+06</td>\n",
       "    </tr>\n",
       "  </tbody>\n",
       "</table>\n",
       "</div>"
      ],
      "text/plain": [
       "        customer_id       vintage           age    dependents   branch_code  \\\n",
       "count  15180.000000  15180.000000  15180.000000  15180.000000  15180.000000   \n",
       "mean   12124.853426   2547.805270     47.965415      0.380764    876.209025   \n",
       "std     6993.904354   1597.937559     16.453883      1.096479    904.536306   \n",
       "min        6.000000    180.000000      1.000000      0.000000      1.000000   \n",
       "25%     6073.000000   1320.000000     36.000000      0.000000    159.000000   \n",
       "50%    12155.500000   2208.000000     46.000000      0.000000    533.000000   \n",
       "75%    18176.250000   3374.000000     60.000000      0.000000   1375.000000   \n",
       "max    24212.000000  11353.000000     90.000000     52.000000   4782.000000   \n",
       "\n",
       "       days_since_last_transaction  current_balance  \\\n",
       "count                 15180.000000     1.518000e+04   \n",
       "mean                     66.806456     7.170300e+03   \n",
       "std                      83.782354     2.105584e+04   \n",
       "min                       0.000000    -5.503960e+03   \n",
       "25%                      11.000000     1.776133e+03   \n",
       "50%                      28.000000     3.321090e+03   \n",
       "75%                      90.000000     6.801475e+03   \n",
       "max                     365.000000     1.076091e+06   \n",
       "\n",
       "       previous_month_end_balance  average_monthly_balance_prevQ  \\\n",
       "count                1.518000e+04                   1.518000e+04   \n",
       "mean                 7.296171e+03                   7.234644e+03   \n",
       "std                  2.195936e+04                   1.903138e+04   \n",
       "min                 -3.145380e+03                   1.428690e+03   \n",
       "25%                  1.906840e+03                   2.205740e+03   \n",
       "50%                  3.415890e+03                   3.582800e+03   \n",
       "75%                  6.881712e+03                   6.860547e+03   \n",
       "max                  1.001124e+06                   1.192704e+06   \n",
       "\n",
       "       average_monthly_balance_prevQ2  current_month_credit  \\\n",
       "count                    15180.000000          1.518000e+04   \n",
       "mean                      6795.087669          3.499394e+03   \n",
       "std                      18126.517751          2.923588e+04   \n",
       "min                     -10691.930000          1.000000e-02   \n",
       "25%                       1819.310000          3.600000e-01   \n",
       "50%                       3379.355000          1.105000e+00   \n",
       "75%                       6697.585000          9.946450e+02   \n",
       "max                     856596.510000          1.764286e+06   \n",
       "\n",
       "       previous_month_credit  current_month_debit  previous_month_debit  \\\n",
       "count           1.518000e+04         1.518000e+04          1.518000e+04   \n",
       "mean            3.843299e+03         3.834738e+03          3.784181e+03   \n",
       "std             3.470274e+04         2.730926e+04          2.567952e+04   \n",
       "min             1.000000e-02         1.000000e-02          1.000000e-02   \n",
       "25%             3.700000e-01         4.900000e-01          4.900000e-01   \n",
       "50%             7.410000e+00         2.203150e+02          2.302550e+02   \n",
       "75%             1.156260e+03         1.601025e+03          1.688190e+03   \n",
       "max             2.361808e+06         1.764286e+06          1.414168e+06   \n",
       "\n",
       "       current_month_balance  previous_month_balance  \n",
       "count           1.518000e+04            1.518000e+04  \n",
       "mean            7.257585e+03            7.228199e+03  \n",
       "std             2.043029e+04            2.090234e+04  \n",
       "min            -3.374180e+03           -5.171920e+03  \n",
       "25%             2.023968e+03            2.086240e+03  \n",
       "50%             3.505205e+03            3.489480e+03  \n",
       "75%             6.878595e+03            6.813462e+03  \n",
       "max             1.074625e+06            1.326487e+06  "
      ]
     },
     "execution_count": 10,
     "metadata": {},
     "output_type": "execute_result"
    }
   ],
   "source": [
    "df.describe()"
   ]
  },
  {
   "cell_type": "code",
   "execution_count": 11,
   "metadata": {},
   "outputs": [
    {
     "data": {
      "text/plain": [
       "0"
      ]
     },
     "execution_count": 11,
     "metadata": {},
     "output_type": "execute_result"
    }
   ],
   "source": [
    "#Checking for duplicates in dataset\n",
    "sum(df.duplicated(subset=['customer_id']))"
   ]
  },
  {
   "cell_type": "markdown",
   "metadata": {},
   "source": [
    "This tells us that there are no duplicate customer_id."
   ]
  },
  {
   "cell_type": "code",
   "execution_count": 12,
   "metadata": {
    "scrolled": false
   },
   "outputs": [
    {
     "data": {
      "text/plain": [
       "<AxesSubplot:>"
      ]
     },
     "execution_count": 12,
     "metadata": {},
     "output_type": "execute_result"
    },
    {
     "data": {
      "image/png": "[encoded data removed]",
      "text/plain": [
       "<Figure size 2880x1080 with 1 Axes>"
      ]
     },
     "metadata": {
      "needs_background": "light"
     },
     "output_type": "display_data"
    }
   ],
   "source": [
    "df.boxplot(figsize= (40,15))"
   ]
  },
  {
   "cell_type": "markdown",
   "metadata": {},
   "source": [
    "Since there are a large number of outliers for all the columns of the dataset, we will not be removing outliers. "
   ]
  },
  {
   "cell_type": "markdown",
   "metadata": {},
   "source": [
    "# Data Visualisation"
   ]
  },
  {
   "cell_type": "code",
   "execution_count": 13,
   "metadata": {},
   "outputs": [
    {
     "data": {
      "text/plain": [
       "<AxesSubplot:>"
      ]
     },
     "execution_count": 13,
     "metadata": {},
     "output_type": "execute_result"
    },
    {
     "data": {
      "image/png": "[encoded data removed]",
      "text/plain": [
       "<Figure size 648x648 with 2 Axes>"
      ]
     },
     "metadata": {
      "needs_background": "light"
     },
     "output_type": "display_data"
    }
   ],
   "source": [
    "# Plot a heatmap between categorical values\n",
    "plt.figure(figsize=(9,9))\n",
    "sns.heatmap(df.corr(), cmap='Blues')"
   ]
  },
  {
   "cell_type": "markdown",
   "metadata": {},
   "source": [
    "There appears to be a correlation between days_since_last_correlation and churn. Hence, we would like to investigate the relationship between them."
   ]
  },
  {
   "cell_type": "markdown",
   "metadata": {},
   "source": [
    "## Hypothesis Testing"
   ]
  },
  {
   "cell_type": "markdown",
   "metadata": {},
   "source": [
    "### μ1 = Sample mean of days_since_last_transaction of non-churned individuals\n",
    "### μ2 = Sample mean of days_since_last_transaction of churned individuals\n",
    "### The null hypothesis is H0: μ1-μ2 = 0\n",
    "### Alternate Hypothesis H1: μ1-μ2 ≠ 0"
   ]
  },
  {
   "cell_type": "code",
   "execution_count": 14,
   "metadata": {},
   "outputs": [],
   "source": [
    "#f2 is the churned individuals\n",
    "df.sort_values('churn', ascending=False)\n",
    "f1 = df[df['churn']]\n",
    "f2 = f1['days_since_last_transaction']\n",
    "\n",
    "#f4 is the non-churned individuals\n",
    "f3 = df[-df['churn']]\n",
    "f4 = f3['days_since_last_transaction']"
   ]
  },
  {
   "cell_type": "code",
   "execution_count": 15,
   "metadata": {},
   "outputs": [
    {
     "data": {
      "text/plain": [
       "Ttest_indResult(statistic=7.974282564868873, pvalue=1.857745847680117e-15)"
      ]
     },
     "execution_count": 15,
     "metadata": {},
     "output_type": "execute_result"
    }
   ],
   "source": [
    "ttest_ind(a=f2, b=f4, equal_var = False)"
   ]
  },
  {
   "cell_type": "markdown",
   "metadata": {},
   "source": [
    "Since the p-value is 1.857745847680117e-15 < 0.05, this means that difference between the means of days_since_last_transaction is significant, and therefore the null hypothesis can be rejected."
   ]
  },
  {
   "cell_type": "code",
   "execution_count": 20,
   "metadata": {},
   "outputs": [
    {
     "data": {
      "text/plain": [
       "Text(0, 0.5, 'Days Since Last Transaction')"
      ]
     },
     "execution_count": 20,
     "metadata": {},
     "output_type": "execute_result"
    },
    {
     "data": {
      "image/png": "[encoded data removed]",
      "text/plain": [
       "<Figure size 1440x720 with 1 Axes>"
      ]
     },
     "metadata": {
      "needs_background": "light"
     },
     "output_type": "display_data"
    }
   ],
   "source": [
    "ax = df.boxplot(column = 'days_since_last_transaction', \n",
    "                by = 'churn', \n",
    "                figsize = (20,10), \n",
    "                showfliers=False, \n",
    "                fontsize = 14, \n",
    "                showmeans= True, \n",
    "                meanprops={\"markerfacecolor\":\"red\", \"markeredgecolor\":\"black\",\"markersize\": \"18\"})\n",
    "plt.suptitle('')\n",
    "ax.set_title('Boxplot of Days Since Last Transaction against Churn', fontsize=28, fontweight='bold')\n",
    "ax.set_xlabel('Churn', fontsize=18)\n",
    "ax.set_ylabel('Days Since Last Transaction', fontsize=18)"
   ]
  },
  {
   "cell_type": "markdown",
   "metadata": {},
   "source": [
    "As we can see from the boxplot, the mean of the individuals who churned is larger than that of those who did not churn. \n",
    "This could be due to the fact that people who churn are probably going to use the bank less often and have more days since last transaction "
   ]
  }
 ],
 "metadata": {
  "kernelspec": {
   "display_name": "Python 3",
   "language": "python",
   "name": "python3"
  },
  "language_info": {
   "codemirror_mode": {
    "name": "ipython",
    "version": 3
   },
   "file_extension": ".py",
   "mimetype": "text/x-python",
   "name": "python",
   "nbconvert_exporter": "python",
   "pygments_lexer": "ipython3",
   "version": "3.8.5"
  }
 },
 "nbformat": 4,
 "nbformat_minor": 5
}
