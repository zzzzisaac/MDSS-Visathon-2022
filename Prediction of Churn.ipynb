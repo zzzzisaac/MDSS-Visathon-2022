{
 "cells": [
  {
   "cell_type": "markdown",
   "metadata": {},
   "source": [
    "# Prediction of Churn\n",
    "\n",
    "From the data visualisation, we found that the mean of days since last transaction was significantly different between churn and non-churned individuals. Thus, in the following code, we will use days since last transaction to predict churn."
   ]
  },
  {
   "cell_type": "markdown",
   "metadata": {},
   "source": [
    "## Random Forest"
   ]
  },
  {
   "cell_type": "code",
   "execution_count": 1,
   "metadata": {},
   "outputs": [],
   "source": [
    "# Importing libraries\n",
    "import pandas as pd\n",
    "import numpy as np\n",
    "import os\n",
    "\n",
    "from sklearn.preprocessing import LabelEncoder, StandardScaler\n",
    "from sklearn.model_selection import train_test_split\n",
    "from sklearn.linear_model import LogisticRegression\n",
    "from sklearn.metrics import classification_report, confusion_matrix\n",
    "from sklearn.ensemble import RandomForestRegressor"
   ]
  },
  {
   "cell_type": "code",
   "execution_count": 2,
   "metadata": {},
   "outputs": [],
   "source": [
    "# Reading the dataset\n",
    "path = os.path.join('c:' + os.sep, 'Users', 'Isaac', 'Desktop', 'Churn', 'Dataset', 'visathon_train_data.csv')\n",
    "df = pd.read_csv(path)"
   ]
  },
  {
   "cell_type": "code",
   "execution_count": 3,
   "metadata": {},
   "outputs": [
    {
     "name": "stdout",
     "output_type": "stream",
     "text": [
      "<class 'pandas.core.frame.DataFrame'>\n",
      "RangeIndex: 17654 entries, 0 to 17653\n",
      "Data columns (total 20 columns):\n",
      " #   Column                          Non-Null Count  Dtype  \n",
      "---  ------                          --------------  -----  \n",
      " 0   customer_id                     17654 non-null  float64\n",
      " 1   vintage                         17654 non-null  float64\n",
      " 2   age                             17654 non-null  float64\n",
      " 3   gender                          17654 non-null  object \n",
      " 4   dependents                      17654 non-null  float64\n",
      " 5   occupation                      17472 non-null  object \n",
      " 6   customer_nw_category            17654 non-null  object \n",
      " 7   branch_code                     17654 non-null  float64\n",
      " 8   days_since_last_transaction     17654 non-null  float64\n",
      " 9   current_balance                 16939 non-null  float64\n",
      " 10  previous_month_end_balance      17654 non-null  float64\n",
      " 11  average_monthly_balance_prevQ   17654 non-null  float64\n",
      " 12  average_monthly_balance_prevQ2  17654 non-null  float64\n",
      " 13  current_month_credit            17654 non-null  float64\n",
      " 14  previous_month_credit           17654 non-null  float64\n",
      " 15  current_month_debit             17654 non-null  float64\n",
      " 16  previous_month_debit            16767 non-null  float64\n",
      " 17  current_month_balance           16838 non-null  float64\n",
      " 18  previous_month_balance          17654 non-null  float64\n",
      " 19  churn                           17654 non-null  object \n",
      "dtypes: float64(16), object(4)\n",
      "memory usage: 2.7+ MB\n"
     ]
    }
   ],
   "source": [
    "# Find the datatype of each column\n",
    "df.info()"
   ]
  },
  {
   "cell_type": "code",
   "execution_count": 4,
   "metadata": {},
   "outputs": [],
   "source": [
    "# Wrangling data type of churn from object to bool (0 or 1)\n",
    "df['churn'] = (df['churn'] == 'Yes')"
   ]
  },
  {
   "cell_type": "markdown",
   "metadata": {},
   "source": [
    "As we see below, the days_since_last_transaction column contains no null values, so there is no need to remove any rows."
   ]
  },
  {
   "cell_type": "code",
   "execution_count": 5,
   "metadata": {},
   "outputs": [
    {
     "data": {
      "text/plain": [
       "customer_id                         0\n",
       "vintage                             0\n",
       "age                                 0\n",
       "gender                              0\n",
       "dependents                          0\n",
       "occupation                        182\n",
       "customer_nw_category                0\n",
       "branch_code                         0\n",
       "days_since_last_transaction         0\n",
       "current_balance                   715\n",
       "previous_month_end_balance          0\n",
       "average_monthly_balance_prevQ       0\n",
       "average_monthly_balance_prevQ2      0\n",
       "current_month_credit                0\n",
       "previous_month_credit               0\n",
       "current_month_debit                 0\n",
       "previous_month_debit              887\n",
       "current_month_balance             816\n",
       "previous_month_balance              0\n",
       "churn                               0\n",
       "dtype: int64"
      ]
     },
     "execution_count": 5,
     "metadata": {},
     "output_type": "execute_result"
    }
   ],
   "source": [
    "df.isnull().sum()"
   ]
  },
  {
   "cell_type": "code",
   "execution_count": 6,
   "metadata": {},
   "outputs": [],
   "source": [
    "# Split dataset into train and test\n",
    "features = df['days_since_last_transaction']\n",
    "labels = df['churn']\n",
    "\n",
    "\n",
    "train_features, test_features, train_labels, test_labels = train_test_split(\n",
    "    features.values.reshape(-1,1),labels,test_size = 0.25, random_state = 42)"
   ]
  },
  {
   "cell_type": "code",
   "execution_count": 7,
   "metadata": {},
   "outputs": [
    {
     "name": "stdout",
     "output_type": "stream",
     "text": [
      "(13240, 1)\n",
      "(13240,)\n",
      "(4414, 1)\n",
      "(4414,)\n"
     ]
    }
   ],
   "source": [
    "# Ensure train and test sets are correctly split \n",
    "print(train_features.shape)\n",
    "print(train_labels.shape)\n",
    "print(test_features.shape)\n",
    "print(test_labels.shape)\n"
   ]
  },
  {
   "cell_type": "code",
   "execution_count": 8,
   "metadata": {},
   "outputs": [],
   "source": [
    "# Buiding model with 1000 decision trees\n",
    "rf = RandomForestRegressor(n_estimators = 1000, random_state = 42)"
   ]
  },
  {
   "cell_type": "code",
   "execution_count": 9,
   "metadata": {},
   "outputs": [
    {
     "data": {
      "text/plain": [
       "RandomForestRegressor(n_estimators=1000, random_state=42)"
      ]
     },
     "execution_count": 9,
     "metadata": {},
     "output_type": "execute_result"
    }
   ],
   "source": [
    "# Train model on training data\n",
    "rf.fit(train_features, train_labels)"
   ]
  },
  {
   "cell_type": "markdown",
   "metadata": {},
   "source": [
    "Accuracy of Random Forest is 2%. "
   ]
  },
  {
   "cell_type": "code",
   "execution_count": 10,
   "metadata": {},
   "outputs": [
    {
     "name": "stdout",
     "output_type": "stream",
     "text": [
      "2.174898051653829\n"
     ]
    }
   ],
   "source": [
    "# Prediction on test data\n",
    "predictions = rf.predict(test_features)\n",
    "\n",
    "# Accuracy\n",
    "accuracy = sum(predictions == test_labels)/test_labels.shape[0] * 100\n",
    "print(accuracy)"
   ]
  },
  {
   "cell_type": "markdown",
   "metadata": {},
   "source": [
    "Hence, we shall try logistic regression instead."
   ]
  },
  {
   "cell_type": "markdown",
   "metadata": {},
   "source": [
    "## Logistic Regression"
   ]
  },
  {
   "cell_type": "code",
   "execution_count": 18,
   "metadata": {},
   "outputs": [],
   "source": [
    "logModel = LogisticRegression()\n",
    "logModel.fit(train_features, train_labels)\n",
    "predLogReg = logModel.predict(test_features)"
   ]
  },
  {
   "cell_type": "code",
   "execution_count": 19,
   "metadata": {},
   "outputs": [
    {
     "name": "stdout",
     "output_type": "stream",
     "text": [
      "              precision    recall  f1-score   support\n",
      "\n",
      "       False       0.00      0.00      0.00       848\n",
      "        True       0.81      1.00      0.89      3566\n",
      "\n",
      "    accuracy                           0.81      4414\n",
      "   macro avg       0.40      0.50      0.45      4414\n",
      "weighted avg       0.65      0.81      0.72      4414\n",
      "\n",
      "[[   0  848]\n",
      " [   0 3566]]\n"
     ]
    },
    {
     "name": "stderr",
     "output_type": "stream",
     "text": [
      "C:\\Users\\Isaac\\anaconda3\\lib\\site-packages\\sklearn\\metrics\\_classification.py:1221: UndefinedMetricWarning: Precision and F-score are ill-defined and being set to 0.0 in labels with no predicted samples. Use `zero_division` parameter to control this behavior.\n",
      "  _warn_prf(average, modifier, msg_start, len(result))\n"
     ]
    }
   ],
   "source": [
    "# Confusion matrix\n",
    "\n",
    "print(classification_report(test_labels,predLogReg))\n",
    "print(confusion_matrix(test_labels,predLogReg))"
   ]
  },
  {
   "cell_type": "code",
   "execution_count": 13,
   "metadata": {},
   "outputs": [],
   "source": [
    "# Predictions on test data for submission\n",
    "\n",
    "path2 = os.path.join('c:' + os.sep, 'Users', 'Isaac', 'Desktop', 'Churn', 'Dataset', 'visathon_test_data.csv')\n",
    "df2 = pd.read_csv(path2)\n",
    "features2 = df2['days_since_last_transaction']\n",
    "\n",
    "predLogReg2 = logModel.predict(features2.values.reshape(-1,1))\n",
    "submit = np.concatenate((df2['customer_id'].values.reshape(-1,1),predLogReg2.reshape(-1,1)), axis=1)\n",
    "\n",
    "np.savetxt('pred.csv', submit, delimiter=',', fmt='%i', header='customer_id,churn', comments='')"
   ]
  },
  {
   "cell_type": "markdown",
   "metadata": {},
   "source": [
    "Accuracy obtained from logistic regression is 81%, which is better."
   ]
  }
 ],
 "metadata": {
  "kernelspec": {
   "display_name": "Python 3",
   "language": "python",
   "name": "python3"
  },
  "language_info": {
   "codemirror_mode": {
    "name": "ipython",
    "version": 3
   },
   "file_extension": ".py",
   "mimetype": "text/x-python",
   "name": "python",
   "nbconvert_exporter": "python",
   "pygments_lexer": "ipython3",
   "version": "3.8.5"
  }
 },
 "nbformat": 4,
 "nbformat_minor": 4
}
